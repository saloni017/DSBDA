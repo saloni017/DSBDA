{
 "cells": [
  {
   "cell_type": "code",
   "execution_count": 1,
   "id": "bf6dcc15-9096-43e9-898e-3331951aedc6",
   "metadata": {},
   "outputs": [],
   "source": [
    "import pandas as pd"
   ]
  },
  {
   "cell_type": "code",
   "execution_count": 2,
   "id": "c68d4bda-5959-4bbb-a25b-e2c2ee373265",
   "metadata": {},
   "outputs": [
    {
     "name": "stdout",
     "output_type": "stream",
     "text": [
      "    Duration          Date  Pulse  Maxpulse  Calories\n",
      "0         60  '2020/12/01'    110       130     409.1\n",
      "1         60  '2020/12/02'    117       145     479.0\n",
      "2         60  '2020/12/03'    103       135     340.0\n",
      "3         45  '2020/12/04'    109       175     282.4\n",
      "4         45  '2020/12/05'    117       148     406.0\n",
      "5         60  '2020/12/06'    102       127    -300.0\n",
      "6         60  '2020/12/07'    110       136     374.0\n",
      "7        450  '2020/12/08'    104       134     253.3\n",
      "8         30  '2020/12/09'    109       133     195.1\n",
      "9         60  '2020/12/10'     98       124     269.0\n",
      "10        60  '2020/12/11'    103       147     329.3\n",
      "11        60  '2020/12/12'    100       120     250.7\n",
      "12        60  '2020/12/12'    100       120     250.7\n",
      "13        60  '2020/12/13'    106       128     345.3\n",
      "14        60  '2020/12/14'    104       132     379.3\n",
      "15        60  '2020/12/15'     98       123     275.0\n",
      "16        60  '2020/12/16'     98       120     215.2\n",
      "17        60  '2020/12/17'    100       120     300.0\n",
      "18        45  '2020/12/18'     90       112       NaN\n",
      "19        60  '2020/12/19'    103       123     323.0\n",
      "20        45  '2020/12/20'     97       125     243.0\n",
      "21        60  '2020/12/21'    108       131     364.2\n",
      "22        45           NaN    100       119     282.0\n",
      "23        60  '2020/12/23'    130       101     300.0\n",
      "24        45  '2020/12/24'    105       132     246.0\n",
      "25        60  '2020/12/25'    102       126     334.5\n",
      "26        60      20201226    100       120     250.0\n",
      "27        60  '2020/12/27'     92       118     241.0\n",
      "28        60  '2020/12/28'    103       132       NaN\n",
      "29        60  '2020/12/29'    100       132    -280.0\n",
      "30        60  '2020/12/30'    102       129     380.3\n",
      "31        60  '2020/12/31'     92       115     243.0\n"
     ]
    }
   ],
   "source": [
    "df1 = pd.read_csv('dirtydata.csv')\n",
    "print(df1)"
   ]
  },
  {
   "cell_type": "code",
   "execution_count": 3,
   "id": "d288baa6-5e02-42e8-84d1-6f7378556037",
   "metadata": {},
   "outputs": [
    {
     "name": "stdout",
     "output_type": "stream",
     "text": [
      "<class 'pandas.core.frame.DataFrame'>\n",
      "RangeIndex: 32 entries, 0 to 31\n",
      "Data columns (total 5 columns):\n",
      " #   Column    Non-Null Count  Dtype  \n",
      "---  ------    --------------  -----  \n",
      " 0   Duration  32 non-null     int64  \n",
      " 1   Date      31 non-null     object \n",
      " 2   Pulse     32 non-null     int64  \n",
      " 3   Maxpulse  32 non-null     int64  \n",
      " 4   Calories  30 non-null     float64\n",
      "dtypes: float64(1), int64(3), object(1)\n",
      "memory usage: 1.4+ KB\n",
      "None\n"
     ]
    }
   ],
   "source": [
    "print(df1.info())"
   ]
  },
  {
   "cell_type": "code",
   "execution_count": 4,
   "id": "af6fb9d6-322f-4f1a-98f7-ccfb18ff72de",
   "metadata": {},
   "outputs": [
    {
     "name": "stdout",
     "output_type": "stream",
     "text": [
      "    Duration   Date  Pulse  Maxpulse  Calories\n",
      "0      False  False  False     False     False\n",
      "1      False  False  False     False     False\n",
      "2      False  False  False     False     False\n",
      "3      False  False  False     False     False\n",
      "4      False  False  False     False     False\n",
      "5      False  False  False     False     False\n",
      "6      False  False  False     False     False\n",
      "7      False  False  False     False     False\n",
      "8      False  False  False     False     False\n",
      "9      False  False  False     False     False\n",
      "10     False  False  False     False     False\n",
      "11     False  False  False     False     False\n",
      "12     False  False  False     False     False\n",
      "13     False  False  False     False     False\n",
      "14     False  False  False     False     False\n",
      "15     False  False  False     False     False\n",
      "16     False  False  False     False     False\n",
      "17     False  False  False     False     False\n",
      "18     False  False  False     False      True\n",
      "19     False  False  False     False     False\n",
      "20     False  False  False     False     False\n",
      "21     False  False  False     False     False\n",
      "22     False   True  False     False     False\n",
      "23     False  False  False     False     False\n",
      "24     False  False  False     False     False\n",
      "25     False  False  False     False     False\n",
      "26     False  False  False     False     False\n",
      "27     False  False  False     False     False\n",
      "28     False  False  False     False      True\n",
      "29     False  False  False     False     False\n",
      "30     False  False  False     False     False\n",
      "31     False  False  False     False     False\n"
     ]
    }
   ],
   "source": [
    "print(df1.isnull())"
   ]
  },
  {
   "cell_type": "code",
   "execution_count": 5,
   "id": "ed6c5f9e-7a12-43c0-97a2-3eea3bc941b6",
   "metadata": {},
   "outputs": [
    {
     "name": "stdout",
     "output_type": "stream",
     "text": [
      "Duration    0\n",
      "Date        1\n",
      "Pulse       0\n",
      "Maxpulse    0\n",
      "Calories    2\n",
      "dtype: int64\n"
     ]
    }
   ],
   "source": [
    "print(df1.isnull().sum())"
   ]
  },
  {
   "cell_type": "code",
   "execution_count": 7,
   "id": "36a9ce18-7d6c-4ca7-9a92-5ac20ae483f6",
   "metadata": {},
   "outputs": [
    {
     "name": "stdout",
     "output_type": "stream",
     "text": [
      "266.0133333333333\n"
     ]
    }
   ],
   "source": [
    "x = df1['Calories'].mean()\n",
    "print(x)"
   ]
  },
  {
   "cell_type": "code",
   "execution_count": 10,
   "id": "1056b030-fe9b-4db1-a0b3-fa42ed3d32a4",
   "metadata": {},
   "outputs": [
    {
     "name": "stderr",
     "output_type": "stream",
     "text": [
      "/tmp/ipykernel_13312/212620120.py:1: FutureWarning: A value is trying to be set on a copy of a DataFrame or Series through chained assignment using an inplace method.\n",
      "The behavior will change in pandas 3.0. This inplace method will never work because the intermediate object on which we are setting values always behaves as a copy.\n",
      "\n",
      "For example, when doing 'df[col].method(value, inplace=True)', try using 'df.method({col: value}, inplace=True)' or df[col] = df[col].method(value) instead, to perform the operation inplace on the original object.\n",
      "\n",
      "\n",
      "  df1['Calories'].fillna(x,inplace = True)\n"
     ]
    }
   ],
   "source": [
    "df1['Calories'].fillna(x,inplace = True)"
   ]
  },
  {
   "cell_type": "code",
   "execution_count": 11,
   "id": "d4d9db0d-050c-48c4-af2e-ae09daefe38b",
   "metadata": {},
   "outputs": [
    {
     "name": "stdout",
     "output_type": "stream",
     "text": [
      "    Duration          Date  Pulse  Maxpulse    Calories\n",
      "0         60  '2020/12/01'    110       130  409.100000\n",
      "1         60  '2020/12/02'    117       145  479.000000\n",
      "2         60  '2020/12/03'    103       135  340.000000\n",
      "3         45  '2020/12/04'    109       175  282.400000\n",
      "4         45  '2020/12/05'    117       148  406.000000\n",
      "5         60  '2020/12/06'    102       127 -300.000000\n",
      "6         60  '2020/12/07'    110       136  374.000000\n",
      "7        450  '2020/12/08'    104       134  253.300000\n",
      "8         30  '2020/12/09'    109       133  195.100000\n",
      "9         60  '2020/12/10'     98       124  269.000000\n",
      "10        60  '2020/12/11'    103       147  329.300000\n",
      "11        60  '2020/12/12'    100       120  250.700000\n",
      "12        60  '2020/12/12'    100       120  250.700000\n",
      "13        60  '2020/12/13'    106       128  345.300000\n",
      "14        60  '2020/12/14'    104       132  379.300000\n",
      "15        60  '2020/12/15'     98       123  275.000000\n",
      "16        60  '2020/12/16'     98       120  215.200000\n",
      "17        60  '2020/12/17'    100       120  300.000000\n",
      "18        45  '2020/12/18'     90       112  266.013333\n",
      "19        60  '2020/12/19'    103       123  323.000000\n",
      "20        45  '2020/12/20'     97       125  243.000000\n",
      "21        60  '2020/12/21'    108       131  364.200000\n",
      "22        45           NaN    100       119  282.000000\n",
      "23        60  '2020/12/23'    130       101  300.000000\n",
      "24        45  '2020/12/24'    105       132  246.000000\n",
      "25        60  '2020/12/25'    102       126  334.500000\n",
      "26        60      20201226    100       120  250.000000\n",
      "27        60  '2020/12/27'     92       118  241.000000\n",
      "28        60  '2020/12/28'    103       132  266.013333\n",
      "29        60  '2020/12/29'    100       132 -280.000000\n",
      "30        60  '2020/12/30'    102       129  380.300000\n",
      "31        60  '2020/12/31'     92       115  243.000000\n"
     ]
    }
   ],
   "source": [
    "print(df1)"
   ]
  },
  {
   "cell_type": "code",
   "execution_count": 12,
   "id": "6b0ffed9-4713-493e-8d27-5e10132e8c8b",
   "metadata": {},
   "outputs": [
    {
     "name": "stdout",
     "output_type": "stream",
     "text": [
      "    Duration   Date  Pulse  Maxpulse  Calories\n",
      "0      False  False  False     False     False\n",
      "1      False  False  False     False     False\n",
      "2      False  False  False     False     False\n",
      "3      False  False  False     False     False\n",
      "4      False  False  False     False     False\n",
      "5      False  False  False     False     False\n",
      "6      False  False  False     False     False\n",
      "7      False  False  False     False     False\n",
      "8      False  False  False     False     False\n",
      "9      False  False  False     False     False\n",
      "10     False  False  False     False     False\n",
      "11     False  False  False     False     False\n",
      "12     False  False  False     False     False\n",
      "13     False  False  False     False     False\n",
      "14     False  False  False     False     False\n",
      "15     False  False  False     False     False\n",
      "16     False  False  False     False     False\n",
      "17     False  False  False     False     False\n",
      "18     False  False  False     False     False\n",
      "19     False  False  False     False     False\n",
      "20     False  False  False     False     False\n",
      "21     False  False  False     False     False\n",
      "22     False   True  False     False     False\n",
      "23     False  False  False     False     False\n",
      "24     False  False  False     False     False\n",
      "25     False  False  False     False     False\n",
      "26     False  False  False     False     False\n",
      "27     False  False  False     False     False\n",
      "28     False  False  False     False     False\n",
      "29     False  False  False     False     False\n",
      "30     False  False  False     False     False\n",
      "31     False  False  False     False     False\n"
     ]
    }
   ],
   "source": [
    "print(df1.isnull())"
   ]
  },
  {
   "cell_type": "code",
   "execution_count": 14,
   "id": "f74a30b7-2710-45fe-a732-b106b1abbe8f",
   "metadata": {},
   "outputs": [
    {
     "name": "stdout",
     "output_type": "stream",
     "text": [
      "    Duration          Date  Pulse  Maxpulse    Calories\n",
      "0         60  '2020/12/01'    110       130  409.100000\n",
      "1         60  '2020/12/02'    117       145  479.000000\n",
      "2         60  '2020/12/03'    103       135  340.000000\n",
      "3         45  '2020/12/04'    109       175  282.400000\n",
      "4         45  '2020/12/05'    117       148  406.000000\n",
      "5         60  '2020/12/06'    102       127  300.000000\n",
      "6         60  '2020/12/07'    110       136  374.000000\n",
      "7        450  '2020/12/08'    104       134  253.300000\n",
      "8         30  '2020/12/09'    109       133  195.100000\n",
      "9         60  '2020/12/10'     98       124  269.000000\n",
      "10        60  '2020/12/11'    103       147  329.300000\n",
      "11        60  '2020/12/12'    100       120  250.700000\n",
      "12        60  '2020/12/12'    100       120  250.700000\n",
      "13        60  '2020/12/13'    106       128  345.300000\n",
      "14        60  '2020/12/14'    104       132  379.300000\n",
      "15        60  '2020/12/15'     98       123  275.000000\n",
      "16        60  '2020/12/16'     98       120  215.200000\n",
      "17        60  '2020/12/17'    100       120  300.000000\n",
      "18        45  '2020/12/18'     90       112  266.013333\n",
      "19        60  '2020/12/19'    103       123  323.000000\n",
      "20        45  '2020/12/20'     97       125  243.000000\n",
      "21        60  '2020/12/21'    108       131  364.200000\n",
      "22        45           NaN    100       119  282.000000\n",
      "23        60  '2020/12/23'    130       101  300.000000\n",
      "24        45  '2020/12/24'    105       132  246.000000\n",
      "25        60  '2020/12/25'    102       126  334.500000\n",
      "26        60      20201226    100       120  250.000000\n",
      "27        60  '2020/12/27'     92       118  241.000000\n",
      "28        60  '2020/12/28'    103       132  266.013333\n",
      "29        60  '2020/12/29'    100       132  280.000000\n",
      "30        60  '2020/12/30'    102       129  380.300000\n",
      "31        60  '2020/12/31'     92       115  243.000000\n"
     ]
    }
   ],
   "source": [
    "df1['Calories']=df1['Calories'].abs()\n",
    "print(df1)"
   ]
  },
  {
   "cell_type": "code",
   "execution_count": 16,
   "id": "ce808e82-f4a7-4e67-9929-9f4c7e0b8056",
   "metadata": {},
   "outputs": [],
   "source": [
    "#drop nan in date field\n",
    "df1.dropna(subset='Date',inplace=True)"
   ]
  },
  {
   "cell_type": "code",
   "execution_count": 17,
   "id": "04f8688a-2013-44eb-a865-fddd470cedbc",
   "metadata": {},
   "outputs": [
    {
     "name": "stdout",
     "output_type": "stream",
     "text": [
      "    Duration          Date  Pulse  Maxpulse    Calories\n",
      "0         60  '2020/12/01'    110       130  409.100000\n",
      "1         60  '2020/12/02'    117       145  479.000000\n",
      "2         60  '2020/12/03'    103       135  340.000000\n",
      "3         45  '2020/12/04'    109       175  282.400000\n",
      "4         45  '2020/12/05'    117       148  406.000000\n",
      "5         60  '2020/12/06'    102       127  300.000000\n",
      "6         60  '2020/12/07'    110       136  374.000000\n",
      "7        450  '2020/12/08'    104       134  253.300000\n",
      "8         30  '2020/12/09'    109       133  195.100000\n",
      "9         60  '2020/12/10'     98       124  269.000000\n",
      "10        60  '2020/12/11'    103       147  329.300000\n",
      "11        60  '2020/12/12'    100       120  250.700000\n",
      "12        60  '2020/12/12'    100       120  250.700000\n",
      "13        60  '2020/12/13'    106       128  345.300000\n",
      "14        60  '2020/12/14'    104       132  379.300000\n",
      "15        60  '2020/12/15'     98       123  275.000000\n",
      "16        60  '2020/12/16'     98       120  215.200000\n",
      "17        60  '2020/12/17'    100       120  300.000000\n",
      "18        45  '2020/12/18'     90       112  266.013333\n",
      "19        60  '2020/12/19'    103       123  323.000000\n",
      "20        45  '2020/12/20'     97       125  243.000000\n",
      "21        60  '2020/12/21'    108       131  364.200000\n",
      "23        60  '2020/12/23'    130       101  300.000000\n",
      "24        45  '2020/12/24'    105       132  246.000000\n",
      "25        60  '2020/12/25'    102       126  334.500000\n",
      "26        60      20201226    100       120  250.000000\n",
      "27        60  '2020/12/27'     92       118  241.000000\n",
      "28        60  '2020/12/28'    103       132  266.013333\n",
      "29        60  '2020/12/29'    100       132  280.000000\n",
      "30        60  '2020/12/30'    102       129  380.300000\n",
      "31        60  '2020/12/31'     92       115  243.000000\n"
     ]
    }
   ],
   "source": [
    "print(df1)"
   ]
  },
  {
   "cell_type": "code",
   "execution_count": 18,
   "id": "810b029d-6870-4aa2-92a2-e1990a96703b",
   "metadata": {},
   "outputs": [
    {
     "name": "stdout",
     "output_type": "stream",
     "text": [
      "<class 'pandas.core.frame.DataFrame'>\n",
      "Index: 31 entries, 0 to 31\n",
      "Data columns (total 5 columns):\n",
      " #   Column    Non-Null Count  Dtype  \n",
      "---  ------    --------------  -----  \n",
      " 0   Duration  31 non-null     int64  \n",
      " 1   Date      31 non-null     object \n",
      " 2   Pulse     31 non-null     int64  \n",
      " 3   Maxpulse  31 non-null     int64  \n",
      " 4   Calories  31 non-null     float64\n",
      "dtypes: float64(1), int64(3), object(1)\n",
      "memory usage: 1.5+ KB\n",
      "None\n"
     ]
    }
   ],
   "source": [
    "print(df1.info())"
   ]
  },
  {
   "cell_type": "code",
   "execution_count": 20,
   "id": "5f84158b-3a29-4239-898c-2b2665eb4f88",
   "metadata": {},
   "outputs": [
    {
     "name": "stdout",
     "output_type": "stream",
     "text": [
      "<bound method NDFrame.describe of     Duration          Date  Pulse  Maxpulse    Calories\n",
      "0         60  '2020/12/01'    110       130  409.100000\n",
      "1         60  '2020/12/02'    117       145  479.000000\n",
      "2         60  '2020/12/03'    103       135  340.000000\n",
      "3         45  '2020/12/04'    109       175  282.400000\n",
      "4         45  '2020/12/05'    117       148  406.000000\n",
      "5         60  '2020/12/06'    102       127  300.000000\n",
      "6         60  '2020/12/07'    110       136  374.000000\n",
      "7        450  '2020/12/08'    104       134  253.300000\n",
      "8         30  '2020/12/09'    109       133  195.100000\n",
      "9         60  '2020/12/10'     98       124  269.000000\n",
      "10        60  '2020/12/11'    103       147  329.300000\n",
      "11        60  '2020/12/12'    100       120  250.700000\n",
      "12        60  '2020/12/12'    100       120  250.700000\n",
      "13        60  '2020/12/13'    106       128  345.300000\n",
      "14        60  '2020/12/14'    104       132  379.300000\n",
      "15        60  '2020/12/15'     98       123  275.000000\n",
      "16        60  '2020/12/16'     98       120  215.200000\n",
      "17        60  '2020/12/17'    100       120  300.000000\n",
      "18        45  '2020/12/18'     90       112  266.013333\n",
      "19        60  '2020/12/19'    103       123  323.000000\n",
      "20        45  '2020/12/20'     97       125  243.000000\n",
      "21        60  '2020/12/21'    108       131  364.200000\n",
      "23        60  '2020/12/23'    130       101  300.000000\n",
      "24        45  '2020/12/24'    105       132  246.000000\n",
      "25        60  '2020/12/25'    102       126  334.500000\n",
      "26        60      20201226    100       120  250.000000\n",
      "27        60  '2020/12/27'     92       118  241.000000\n",
      "28        60  '2020/12/28'    103       132  266.013333\n",
      "29        60  '2020/12/29'    100       132  280.000000\n",
      "30        60  '2020/12/30'    102       129  380.300000\n",
      "31        60  '2020/12/31'     92       115  243.000000>\n"
     ]
    }
   ],
   "source": [
    "print(df1.describe)"
   ]
  },
  {
   "cell_type": "code",
   "execution_count": 22,
   "id": "e83dd307-a9a2-4160-bb96-f2b7538bdd1e",
   "metadata": {},
   "outputs": [],
   "source": [
    "df1['Date'] = pd.to_datetime(df1['Date'],format='mixed')\n",
    "#converting Date int date-time format"
   ]
  },
  {
   "cell_type": "code",
   "execution_count": 24,
   "id": "911cdb1d-4f20-49f2-882c-93f578cc5302",
   "metadata": {},
   "outputs": [
    {
     "name": "stdout",
     "output_type": "stream",
     "text": [
      "<class 'pandas.core.frame.DataFrame'>\n",
      "Index: 31 entries, 0 to 31\n",
      "Data columns (total 5 columns):\n",
      " #   Column    Non-Null Count  Dtype         \n",
      "---  ------    --------------  -----         \n",
      " 0   Duration  31 non-null     int64         \n",
      " 1   Date      31 non-null     datetime64[ns]\n",
      " 2   Pulse     31 non-null     int64         \n",
      " 3   Maxpulse  31 non-null     int64         \n",
      " 4   Calories  31 non-null     float64       \n",
      "dtypes: datetime64[ns](1), float64(1), int64(3)\n",
      "memory usage: 1.5 KB\n",
      "None\n"
     ]
    }
   ],
   "source": [
    "print(df1.info())"
   ]
  },
  {
   "cell_type": "code",
   "execution_count": 25,
   "id": "febbf57b-db48-48e9-9ef2-51358910fcf4",
   "metadata": {},
   "outputs": [],
   "source": [
    "df1['Calories'] = df1['Calories'].astype(int)\n",
    "#converting calories into integer"
   ]
  },
  {
   "cell_type": "code",
   "execution_count": 27,
   "id": "1ca412f4-e50b-4f05-a195-8ece2fe1d170",
   "metadata": {},
   "outputs": [
    {
     "name": "stdout",
     "output_type": "stream",
     "text": [
      "<class 'pandas.core.frame.DataFrame'>\n",
      "Index: 31 entries, 0 to 31\n",
      "Data columns (total 5 columns):\n",
      " #   Column    Non-Null Count  Dtype         \n",
      "---  ------    --------------  -----         \n",
      " 0   Duration  31 non-null     int64         \n",
      " 1   Date      31 non-null     datetime64[ns]\n",
      " 2   Pulse     31 non-null     int64         \n",
      " 3   Maxpulse  31 non-null     int64         \n",
      " 4   Calories  31 non-null     int64         \n",
      "dtypes: datetime64[ns](1), int64(4)\n",
      "memory usage: 1.5 KB\n",
      "None\n"
     ]
    }
   ],
   "source": [
    "print(df1.info())"
   ]
  },
  {
   "cell_type": "code",
   "execution_count": 28,
   "id": "f0905f77-cbbc-4d14-a3c7-b04c3c90d69e",
   "metadata": {},
   "outputs": [
    {
     "name": "stdout",
     "output_type": "stream",
     "text": [
      "    Duration       Date  Pulse  Maxpulse  Calories\n",
      "0         60 2020-12-01    110       130       409\n",
      "1         60 2020-12-02    117       145       479\n",
      "2         60 2020-12-03    103       135       340\n",
      "3         45 2020-12-04    109       175       282\n",
      "4         45 2020-12-05    117       148       406\n",
      "5         60 2020-12-06    102       127       300\n",
      "6         60 2020-12-07    110       136       374\n",
      "7        450 2020-12-08    104       134       253\n",
      "8         30 2020-12-09    109       133       195\n",
      "9         60 2020-12-10     98       124       269\n",
      "10        60 2020-12-11    103       147       329\n",
      "11        60 2020-12-12    100       120       250\n",
      "12        60 2020-12-12    100       120       250\n",
      "13        60 2020-12-13    106       128       345\n",
      "14        60 2020-12-14    104       132       379\n",
      "15        60 2020-12-15     98       123       275\n",
      "16        60 2020-12-16     98       120       215\n",
      "17        60 2020-12-17    100       120       300\n",
      "18        45 2020-12-18     90       112       266\n",
      "19        60 2020-12-19    103       123       323\n",
      "20        45 2020-12-20     97       125       243\n",
      "21        60 2020-12-21    108       131       364\n",
      "23        60 2020-12-23    130       101       300\n",
      "24        45 2020-12-24    105       132       246\n",
      "25        60 2020-12-25    102       126       334\n",
      "26        60 2020-12-26    100       120       250\n",
      "27        60 2020-12-27     92       118       241\n",
      "28        60 2020-12-28    103       132       266\n",
      "29        60 2020-12-29    100       132       280\n",
      "30        60 2020-12-30    102       129       380\n",
      "31        60 2020-12-31     92       115       243\n"
     ]
    }
   ],
   "source": [
    "print(df1)"
   ]
  },
  {
   "cell_type": "code",
   "execution_count": 29,
   "id": "253e96f0-2613-4d31-9ee5-d1994456b06f",
   "metadata": {},
   "outputs": [],
   "source": [
    "df1.loc[7,'Duration'] = 45\n",
    "#changing duration 450 to 45"
   ]
  },
  {
   "cell_type": "code",
   "execution_count": 30,
   "id": "b2f5e9da-24ad-4429-af62-256e67846ca6",
   "metadata": {},
   "outputs": [
    {
     "name": "stdout",
     "output_type": "stream",
     "text": [
      "    Duration       Date  Pulse  Maxpulse  Calories\n",
      "0         60 2020-12-01    110       130       409\n",
      "1         60 2020-12-02    117       145       479\n",
      "2         60 2020-12-03    103       135       340\n",
      "3         45 2020-12-04    109       175       282\n",
      "4         45 2020-12-05    117       148       406\n",
      "5         60 2020-12-06    102       127       300\n",
      "6         60 2020-12-07    110       136       374\n",
      "7         45 2020-12-08    104       134       253\n",
      "8         30 2020-12-09    109       133       195\n",
      "9         60 2020-12-10     98       124       269\n",
      "10        60 2020-12-11    103       147       329\n",
      "11        60 2020-12-12    100       120       250\n",
      "12        60 2020-12-12    100       120       250\n",
      "13        60 2020-12-13    106       128       345\n",
      "14        60 2020-12-14    104       132       379\n",
      "15        60 2020-12-15     98       123       275\n",
      "16        60 2020-12-16     98       120       215\n",
      "17        60 2020-12-17    100       120       300\n",
      "18        45 2020-12-18     90       112       266\n",
      "19        60 2020-12-19    103       123       323\n",
      "20        45 2020-12-20     97       125       243\n",
      "21        60 2020-12-21    108       131       364\n",
      "23        60 2020-12-23    130       101       300\n",
      "24        45 2020-12-24    105       132       246\n",
      "25        60 2020-12-25    102       126       334\n",
      "26        60 2020-12-26    100       120       250\n",
      "27        60 2020-12-27     92       118       241\n",
      "28        60 2020-12-28    103       132       266\n",
      "29        60 2020-12-29    100       132       280\n",
      "30        60 2020-12-30    102       129       380\n",
      "31        60 2020-12-31     92       115       243\n"
     ]
    }
   ],
   "source": [
    "print(df1)"
   ]
  },
  {
   "cell_type": "code",
   "execution_count": 32,
   "id": "06ffcc8f-d50b-47a7-a23a-2935c2603727",
   "metadata": {},
   "outputs": [
    {
     "data": {
      "text/plain": [
       "1"
      ]
     },
     "execution_count": 32,
     "metadata": {},
     "output_type": "execute_result"
    }
   ],
   "source": [
    "#checking duplicates\n",
    "df1.duplicated().sum()"
   ]
  },
  {
   "cell_type": "code",
   "execution_count": 34,
   "id": "01775c22-004e-4d16-9b2f-6800c0b1f6dd",
   "metadata": {},
   "outputs": [],
   "source": [
    "df1.drop_duplicates(inplace=True)\n",
    "#dropping duplictes value"
   ]
  },
  {
   "cell_type": "code",
   "execution_count": 35,
   "id": "158d6dee-85e7-4c82-8a53-a320e8e83763",
   "metadata": {},
   "outputs": [
    {
     "data": {
      "text/plain": [
       "0"
      ]
     },
     "execution_count": 35,
     "metadata": {},
     "output_type": "execute_result"
    }
   ],
   "source": [
    "df1.duplicated().sum()"
   ]
  },
  {
   "cell_type": "code",
   "execution_count": null,
   "id": "73d1f66e-e624-40e2-9c68-38555200b3c3",
   "metadata": {},
   "outputs": [],
   "source": []
  }
 ],
 "metadata": {
  "kernelspec": {
   "display_name": "Python 3 (ipykernel)",
   "language": "python",
   "name": "python3"
  },
  "language_info": {
   "codemirror_mode": {
    "name": "ipython",
    "version": 3
   },
   "file_extension": ".py",
   "mimetype": "text/x-python",
   "name": "python",
   "nbconvert_exporter": "python",
   "pygments_lexer": "ipython3",
   "version": "3.10.12"
  }
 },
 "nbformat": 4,
 "nbformat_minor": 5
}
